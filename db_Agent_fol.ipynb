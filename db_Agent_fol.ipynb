{
  "nbformat": 4,
  "nbformat_minor": 0,
  "metadata": {
    "colab": {
      "provenance": [],
      "authorship_tag": "ABX9TyNXTnQJjZq+xnSVwQHsfbd0",
      "include_colab_link": true
    },
    "kernelspec": {
      "name": "python3",
      "display_name": "Python 3"
    },
    "language_info": {
      "name": "python"
    }
  },
  "cells": [
    {
      "cell_type": "markdown",
      "metadata": {
        "id": "view-in-github",
        "colab_type": "text"
      },
      "source": [
        "<a href=\"https://colab.research.google.com/github/luisariass/inteligent-Agent-FOL/blob/main/db_Agent_fol.ipynb\" target=\"_parent\"><img src=\"https://colab.research.google.com/assets/colab-badge.svg\" alt=\"Open In Colab\"/></a>"
      ]
    },
    {
      "cell_type": "code",
      "source": [
        "from pyDatalog import pyDatalog\n",
        "import sqlite3"
      ],
      "metadata": {
        "id": "AnQtJFh8wCil"
      },
      "execution_count": null,
      "outputs": []
    },
    {
      "cell_type": "code",
      "source": [
        "# Conexión a la base de datos\n",
        "conn = sqlite3.connect('inventario.db')\n",
        "cursor = conn.cursor()"
      ],
      "metadata": {
        "id": "9Q9BI706wGTG"
      },
      "execution_count": null,
      "outputs": []
    },
    {
      "cell_type": "code",
      "source": [
        "cursor.execute('''\n",
        "    CREATE TABLE IF NOT EXISTS productos (\n",
        "        nombre TEXT PRIMARY KEY,\n",
        "        stock INTEGER,\n",
        "        minimo INTEGER,\n",
        "        costo FLOAT,\n",
        "        ventas_mensuales INTEGER\n",
        "    )\n",
        "''')"
      ],
      "metadata": {
        "colab": {
          "base_uri": "https://localhost:8080/"
        },
        "id": "XB2L3HOawKT_",
        "outputId": "19f73888-b265-4458-d22b-d5fd8a88d88a"
      },
      "execution_count": null,
      "outputs": [
        {
          "output_type": "execute_result",
          "data": {
            "text/plain": [
              "<sqlite3.Cursor at 0x7cc2fe8d8540>"
            ]
          },
          "metadata": {},
          "execution_count": 307
        }
      ]
    },
    {
      "cell_type": "code",
      "source": [
        "# Insertar datos de ejemplo (solo si la tabla está vacía)\n",
        "cursor.execute(\"SELECT COUNT(*) FROM productos\")\n",
        "if cursor.fetchone()[0] == 0:\n",
        "    cursor.executemany('''\n",
        "        INSERT INTO productos (nombre, stock, minimo, costo, ventas_mensuales)\n",
        "        VALUES (?, ?, ?, ?, ?)\n",
        "    ''', [\n",
        "        ('Martillo', 20, 30, 5.0, 120),      # Martillo: 120 ventas/mes\n",
        "        ('Cemento', 49, 50, 15.0, 80),       # Cemento: 80 ventas/mes\n",
        "        ('Tornillos', 500, 200, 2.5, 150),   # Tornillos: 150 ventas/mes\n",
        "        ('Clavos', 110, 120, 5.0, 200),      # Clavos: 200 ventas/mes\n",
        "        ('Pintura', 15, 20, 25.0, 30),       # Pintura: 30 ventas/mes\n",
        "        ('Brochas', 30, 50, 8.0, 40),        # Brochas: 40 ventas/mes\n",
        "        ('Alicates', 1, 15, 12.0, 20),      # Alicates: 20 ventas/mes\n",
        "        ('Destornilladores', 25, 30, 7.0, 60), # Destornilladores: 60 ventas/mes\n",
        "        ('Sierra', 5, 10, 20.0, 10),         # Sierra: 10 ventas/mes\n",
        "        ('Lijas', 200, 300, 1.0, 250)        # Lijas: 250 ventas/mes\n",
        "    ])\n",
        "    conn.commit()"
      ],
      "metadata": {
        "id": "ABK77bIuwOLX"
      },
      "execution_count": null,
      "outputs": []
    },
    {
      "cell_type": "code",
      "source": [
        "# Configuración de pyDatalog\n",
        "pyDatalog.clear()\n",
        "pyDatalog.create_terms('''\n",
        "    producto, stock_actual, minimo_stock, costo_pedido,\n",
        "    necesita_reposicion, realizar_pedido, producto_critico,\n",
        "    alta_rotacion, bajo_stock_alta_demanda, ventas_mensuales,\n",
        "    X, Y, Z, Cantidad, V\n",
        "''')\n",
        "\n",
        "# Cargar datos desde SQLite a pyDatalog\n",
        "cursor.execute(\"SELECT nombre, stock, minimo, costo, ventas_mensuales FROM productos\")\n",
        "for nombre, stock, minimo, costo, ventas in cursor.fetchall():\n",
        "    +producto(nombre)\n",
        "    +stock_actual(nombre, stock)\n",
        "    +minimo_stock(nombre, minimo)\n",
        "    +costo_pedido(nombre, costo)\n",
        "    +ventas_mensuales(nombre, ventas)  # Cargar ventas mensuales"
      ],
      "metadata": {
        "id": "mZw8Ph5IwQof"
      },
      "execution_count": null,
      "outputs": []
    },
    {
      "cell_type": "code",
      "source": [
        "# Reglas de inferencia\n",
        "necesita_reposicion(X) <= (\n",
        "    producto(X) &\n",
        "    stock_actual(X, Y) &\n",
        "    minimo_stock(X, Z) &\n",
        "    (Y < Z)\n",
        ")\n",
        "\n",
        "realizar_pedido(X, Cantidad) <= (\n",
        "    necesita_reposicion(X) &\n",
        "    stock_actual(X, Y) &\n",
        "    minimo_stock(X, Z) &\n",
        "    (Cantidad == Z - Y)\n",
        ")\n",
        "\n",
        "producto_critico(X) <= (\n",
        "    producto(X) &\n",
        "    stock_actual(X, Y) &\n",
        "    minimo_stock(X, Z) &\n",
        "    (Y < 0.2 * Z)\n",
        ")\n",
        "\n",
        "alta_rotacion(X) <= (\n",
        "    producto(X) &\n",
        "    ventas_mensuales(X, V) &\n",
        "    (V > 100)\n",
        ")\n",
        "\n",
        "bajo_stock_alta_demanda(X) <= (\n",
        "    necesita_reposicion(X) &\n",
        "    alta_rotacion(X)\n",
        ")\n"
      ],
      "metadata": {
        "colab": {
          "base_uri": "https://localhost:8080/"
        },
        "id": "s6MM8agNwTlg",
        "outputId": "274914ce-0034-4908-cce3-9e9e4df7b8f0"
      },
      "execution_count": null,
      "outputs": [
        {
          "output_type": "execute_result",
          "data": {
            "text/plain": [
              "bajo_stock_alta_demanda(X) <= necesita_reposicion("
            ]
          },
          "metadata": {},
          "execution_count": 310
        }
      ]
    },
    {
      "cell_type": "code",
      "source": [
        "# Consultas\n",
        "print(\"=== Productos a reponer ===\")\n",
        "print(necesita_reposicion(X))\n",
        "\n",
        "print(\"\\n=== Pedidos necesarios ===\")\n",
        "print(realizar_pedido(X, Cantidad))\n",
        "\n",
        "print(\"\\n=== Productos críticos ===\")\n",
        "print(producto_critico(X))\n",
        "\n",
        "print(\"\\n=== Productos con alta rotación ===\")\n",
        "print(alta_rotacion(X))\n",
        "\n",
        "print(\"\\n=== Productos con bajo stock y alta demanda ===\")\n",
        "print(bajo_stock_alta_demanda(X))\n",
        "\n",
        "conn.close()"
      ],
      "metadata": {
        "colab": {
          "base_uri": "https://localhost:8080/"
        },
        "id": "iQtDWwTAxjmz",
        "outputId": "bf8f9721-f535-4c34-8afe-f3fd211d4bc6"
      },
      "execution_count": null,
      "outputs": [
        {
          "output_type": "stream",
          "name": "stdout",
          "text": [
            "=== Productos a reponer ===\n",
            "X               \n",
            "----------------\n",
            "Lijas           \n",
            "Sierra          \n",
            "Destornilladores\n",
            "Alicates        \n",
            "Brochas         \n",
            "Pintura         \n",
            "Clavos          \n",
            "Cemento         \n",
            "Martillo        \n",
            "\n",
            "=== Pedidos necesarios ===\n",
            "X                | Cantidad\n",
            "-----------------|---------\n",
            "Lijas            | 100     \n",
            "Sierra           | 5       \n",
            "Destornilladores | 5       \n",
            "Alicates         | 14      \n",
            "Brochas          | 20      \n",
            "Pintura          | 5       \n",
            "Clavos           | 10      \n",
            "Cemento          | 1       \n",
            "Martillo         | 10      \n",
            "\n",
            "=== Productos críticos ===\n",
            "X       \n",
            "--------\n",
            "Alicates\n",
            "\n",
            "=== Productos con alta rotación ===\n",
            "X        \n",
            "---------\n",
            "Lijas    \n",
            "Clavos   \n",
            "Tornillos\n",
            "Martillo \n",
            "\n",
            "=== Productos con bajo stock y alta demanda ===\n",
            "X       \n",
            "--------\n",
            "Lijas   \n",
            "Clavos  \n",
            "Martillo\n"
          ]
        }
      ]
    }
  ]
}